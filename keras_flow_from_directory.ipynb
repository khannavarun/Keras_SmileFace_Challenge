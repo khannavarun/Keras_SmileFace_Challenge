{
 "cells": [
  {
   "cell_type": "code",
   "execution_count": 36,
   "metadata": {},
   "outputs": [],
   "source": [
    "from keras import backend as K\n",
    "from keras.optimizers import SGD\n",
    "from keras.models import Sequential\n",
    "from keras.layers import Conv2D, MaxPooling2D\n",
    "from keras.preprocessing.image import ImageDataGenerator\n",
    "from keras.layers import Activation, Dropout, Flatten, Dense"
   ]
  },
  {
   "cell_type": "code",
   "execution_count": 37,
   "metadata": {},
   "outputs": [],
   "source": [
    "# Could use larger dimensions, but will make training\n",
    "# times much much longer\n",
    "img_width, img_height = (75, 75)"
   ]
  },
  {
   "cell_type": "code",
   "execution_count": 38,
   "metadata": {},
   "outputs": [
    {
     "name": "stdout",
     "output_type": "stream",
     "text": [
      "Found 320 images belonging to 2 classes.\n",
      "Found 80 images belonging to 2 classes.\n"
     ]
    }
   ],
   "source": [
    "train_dir = 'FEI/train'\n",
    "test_dir = 'FEI/test'\n",
    "\n",
    "epochs = 10\n",
    "batch_size = 32\n",
    "num_train_samples = 320\n",
    "num_test_samples  =  80\n",
    "\n",
    "# perform random transformations so that the\n",
    "# data is more varied\n",
    "train_datagen = ImageDataGenerator(rotation_range=40,\n",
    "                                   width_shift_range=0.2,\n",
    "                                   height_shift_range=0.2,\n",
    "                                   rescale=1./255,\n",
    "                                   shear_range=0.2,\n",
    "                                   zoom_range=0.2,\n",
    "                                   horizontal_flip=True,\n",
    "                                   fill_mode='nearest')\n",
    "\n",
    "test_datagen  = ImageDataGenerator(rescale=1. / 255)\n",
    "\n",
    "train_generator = train_datagen.flow_from_directory(train_dir,\n",
    "                                                    target_size=(img_width, img_height),\n",
    "                                                    batch_size=batch_size,\n",
    "                                                    class_mode='binary',\n",
    "                                                    shuffle=True)\n",
    "\n",
    "validation_generator = test_datagen.flow_from_directory(test_dir,\n",
    "                                                        target_size=(img_width, img_height),\n",
    "                                                        batch_size=batch_size,\n",
    "                                                        class_mode='binary',\n",
    "                                                        shuffle=True)"
   ]
  },
  {
   "cell_type": "code",
   "execution_count": 39,
   "metadata": {},
   "outputs": [],
   "source": [
    "if K.image_data_format() == 'channels_first':\n",
    "    input_shape = (3, img_width, img_height)\n",
    "else:\n",
    "    input_shape = (img_width, img_height, 3)"
   ]
  },
  {
   "cell_type": "code",
   "execution_count": 40,
   "metadata": {},
   "outputs": [
    {
     "data": {
      "text/plain": [
       "(75, 75, 3)"
      ]
     },
     "execution_count": 40,
     "metadata": {},
     "output_type": "execute_result"
    }
   ],
   "source": [
    "input_shape"
   ]
  },
  {
   "cell_type": "code",
   "execution_count": 41,
   "metadata": {},
   "outputs": [],
   "source": [
    "model = Sequential()\n",
    "model.add(Conv2D(32, kernel_size=(5, 5), activation=\"relu\", input_shape=input_shape))\n",
    "model.add(MaxPooling2D(pool_size=(2, 2)))\n",
    "\n",
    "model.add(Conv2D(32, (5, 5), activation=\"relu\"))\n",
    "model.add(MaxPooling2D(pool_size=(2, 2)))\n",
    "\n",
    "model.add(Conv2D(32, (5, 5), activation=\"relu\"))\n",
    "model.add(MaxPooling2D(pool_size=(2, 2)))\n",
    "\n",
    "# Convolution is done, so make the fully connected layer\n",
    "model.add(Flatten())\n",
    "\n",
    "# Drop 50% of the neurons\n",
    "model.add(Dense(1))\n",
    "model.add(Activation('sigmoid'))\n",
    "\n",
    "# compilation\n",
    "sgd = SGD(lr=0.01, decay=1e-6, momentum=0.9, nesterov=True)\n",
    "model.compile(loss='binary_crossentropy', optimizer=sgd, metrics=['accuracy'])"
   ]
  },
  {
   "cell_type": "code",
   "execution_count": 42,
   "metadata": {},
   "outputs": [
    {
     "name": "stdout",
     "output_type": "stream",
     "text": [
      "Epoch 1/10\n",
      "10/10 [==============================] - 3s 270ms/step - loss: 0.6939 - acc: 0.4750 - val_loss: 0.6902 - val_acc: 0.6250\n",
      "Epoch 2/10\n",
      "10/10 [==============================] - 2s 157ms/step - loss: 0.6876 - acc: 0.6156 - val_loss: 0.6831 - val_acc: 0.5833\n",
      "Epoch 3/10\n",
      "10/10 [==============================] - 1s 134ms/step - loss: 0.6849 - acc: 0.5500 - val_loss: 0.6733 - val_acc: 0.6667\n",
      "Epoch 4/10\n",
      "10/10 [==============================] - 2s 203ms/step - loss: 0.6720 - acc: 0.6281 - val_loss: 0.6537 - val_acc: 0.7500\n",
      "Epoch 5/10\n",
      "10/10 [==============================] - 2s 207ms/step - loss: 0.6656 - acc: 0.5656 - val_loss: 0.6369 - val_acc: 0.6042\n",
      "Epoch 6/10\n",
      "10/10 [==============================] - 2s 173ms/step - loss: 0.6706 - acc: 0.5781 - val_loss: 0.6122 - val_acc: 0.8125\n",
      "Epoch 7/10\n",
      "10/10 [==============================] - 1s 148ms/step - loss: 0.6492 - acc: 0.6219 - val_loss: 0.5808 - val_acc: 0.8125\n",
      "Epoch 8/10\n",
      "10/10 [==============================] - 1s 136ms/step - loss: 0.6284 - acc: 0.6562 - val_loss: 0.5360 - val_acc: 0.7500\n",
      "Epoch 9/10\n",
      "10/10 [==============================] - 1s 132ms/step - loss: 0.6408 - acc: 0.6375 - val_loss: 0.4946 - val_acc: 0.7708\n",
      "Epoch 10/10\n",
      "10/10 [==============================] - 1s 144ms/step - loss: 0.5807 - acc: 0.7312 - val_loss: 0.4786 - val_acc: 0.8125\n"
     ]
    },
    {
     "data": {
      "text/plain": [
       "<keras.callbacks.History at 0x13b53b518>"
      ]
     },
     "execution_count": 42,
     "metadata": {},
     "output_type": "execute_result"
    }
   ],
   "source": [
    "model.fit_generator(train_generator,\n",
    "                    steps_per_epoch=num_train_samples // batch_size,\n",
    "                    epochs=epochs,\n",
    "                    validation_data=validation_generator,\n",
    "                    validation_steps=num_test_samples // batch_size)"
   ]
  },
  {
   "cell_type": "code",
   "execution_count": null,
   "metadata": {},
   "outputs": [],
   "source": []
  },
  {
   "cell_type": "code",
   "execution_count": null,
   "metadata": {},
   "outputs": [],
   "source": []
  }
 ],
 "metadata": {
  "kernelspec": {
   "display_name": "Python 3",
   "language": "python",
   "name": "python3"
  },
  "language_info": {
   "codemirror_mode": {
    "name": "ipython",
    "version": 3
   },
   "file_extension": ".py",
   "mimetype": "text/x-python",
   "name": "python",
   "nbconvert_exporter": "python",
   "pygments_lexer": "ipython3",
   "version": "3.6.5"
  }
 },
 "nbformat": 4,
 "nbformat_minor": 4
}
