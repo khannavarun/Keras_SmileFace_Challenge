{
 "cells": [
  {
   "cell_type": "code",
   "execution_count": 1,
   "metadata": {},
   "outputs": [
    {
     "name": "stderr",
     "output_type": "stream",
     "text": [
      "Using TensorFlow backend.\n",
      "/Users/vkhanna/Documents/GitHub/Keras_SmileFace_Challenge/venv/lib/python3.6/site-packages/tensorflow/python/framework/dtypes.py:516: FutureWarning: Passing (type, 1) or '1type' as a synonym of type is deprecated; in a future version of numpy, it will be understood as (type, (1,)) / '(1,)type'.\n",
      "  _np_qint8 = np.dtype([(\"qint8\", np.int8, 1)])\n",
      "/Users/vkhanna/Documents/GitHub/Keras_SmileFace_Challenge/venv/lib/python3.6/site-packages/tensorflow/python/framework/dtypes.py:517: FutureWarning: Passing (type, 1) or '1type' as a synonym of type is deprecated; in a future version of numpy, it will be understood as (type, (1,)) / '(1,)type'.\n",
      "  _np_quint8 = np.dtype([(\"quint8\", np.uint8, 1)])\n",
      "/Users/vkhanna/Documents/GitHub/Keras_SmileFace_Challenge/venv/lib/python3.6/site-packages/tensorflow/python/framework/dtypes.py:518: FutureWarning: Passing (type, 1) or '1type' as a synonym of type is deprecated; in a future version of numpy, it will be understood as (type, (1,)) / '(1,)type'.\n",
      "  _np_qint16 = np.dtype([(\"qint16\", np.int16, 1)])\n",
      "/Users/vkhanna/Documents/GitHub/Keras_SmileFace_Challenge/venv/lib/python3.6/site-packages/tensorflow/python/framework/dtypes.py:519: FutureWarning: Passing (type, 1) or '1type' as a synonym of type is deprecated; in a future version of numpy, it will be understood as (type, (1,)) / '(1,)type'.\n",
      "  _np_quint16 = np.dtype([(\"quint16\", np.uint16, 1)])\n",
      "/Users/vkhanna/Documents/GitHub/Keras_SmileFace_Challenge/venv/lib/python3.6/site-packages/tensorflow/python/framework/dtypes.py:520: FutureWarning: Passing (type, 1) or '1type' as a synonym of type is deprecated; in a future version of numpy, it will be understood as (type, (1,)) / '(1,)type'.\n",
      "  _np_qint32 = np.dtype([(\"qint32\", np.int32, 1)])\n",
      "/Users/vkhanna/Documents/GitHub/Keras_SmileFace_Challenge/venv/lib/python3.6/site-packages/tensorflow/python/framework/dtypes.py:525: FutureWarning: Passing (type, 1) or '1type' as a synonym of type is deprecated; in a future version of numpy, it will be understood as (type, (1,)) / '(1,)type'.\n",
      "  np_resource = np.dtype([(\"resource\", np.ubyte, 1)])\n",
      "/Users/vkhanna/Documents/GitHub/Keras_SmileFace_Challenge/venv/lib/python3.6/site-packages/tensorboard/compat/tensorflow_stub/dtypes.py:541: FutureWarning: Passing (type, 1) or '1type' as a synonym of type is deprecated; in a future version of numpy, it will be understood as (type, (1,)) / '(1,)type'.\n",
      "  _np_qint8 = np.dtype([(\"qint8\", np.int8, 1)])\n",
      "/Users/vkhanna/Documents/GitHub/Keras_SmileFace_Challenge/venv/lib/python3.6/site-packages/tensorboard/compat/tensorflow_stub/dtypes.py:542: FutureWarning: Passing (type, 1) or '1type' as a synonym of type is deprecated; in a future version of numpy, it will be understood as (type, (1,)) / '(1,)type'.\n",
      "  _np_quint8 = np.dtype([(\"quint8\", np.uint8, 1)])\n",
      "/Users/vkhanna/Documents/GitHub/Keras_SmileFace_Challenge/venv/lib/python3.6/site-packages/tensorboard/compat/tensorflow_stub/dtypes.py:543: FutureWarning: Passing (type, 1) or '1type' as a synonym of type is deprecated; in a future version of numpy, it will be understood as (type, (1,)) / '(1,)type'.\n",
      "  _np_qint16 = np.dtype([(\"qint16\", np.int16, 1)])\n",
      "/Users/vkhanna/Documents/GitHub/Keras_SmileFace_Challenge/venv/lib/python3.6/site-packages/tensorboard/compat/tensorflow_stub/dtypes.py:544: FutureWarning: Passing (type, 1) or '1type' as a synonym of type is deprecated; in a future version of numpy, it will be understood as (type, (1,)) / '(1,)type'.\n",
      "  _np_quint16 = np.dtype([(\"quint16\", np.uint16, 1)])\n",
      "/Users/vkhanna/Documents/GitHub/Keras_SmileFace_Challenge/venv/lib/python3.6/site-packages/tensorboard/compat/tensorflow_stub/dtypes.py:545: FutureWarning: Passing (type, 1) or '1type' as a synonym of type is deprecated; in a future version of numpy, it will be understood as (type, (1,)) / '(1,)type'.\n",
      "  _np_qint32 = np.dtype([(\"qint32\", np.int32, 1)])\n",
      "/Users/vkhanna/Documents/GitHub/Keras_SmileFace_Challenge/venv/lib/python3.6/site-packages/tensorboard/compat/tensorflow_stub/dtypes.py:550: FutureWarning: Passing (type, 1) or '1type' as a synonym of type is deprecated; in a future version of numpy, it will be understood as (type, (1,)) / '(1,)type'.\n",
      "  np_resource = np.dtype([(\"resource\", np.ubyte, 1)])\n"
     ]
    }
   ],
   "source": [
    "import numpy as np\n",
    "np.random.seed(1337)\n",
    "from keras import backend as K\n",
    "from keras.optimizers import SGD\n",
    "from keras.models import load_model\n",
    "from keras.models import Sequential\n",
    "from keras.layers import Conv2D, MaxPooling2D\n",
    "from keras.preprocessing.image import ImageDataGenerator\n",
    "from keras.callbacks import EarlyStopping, ModelCheckpoint\n",
    "from keras.layers import Activation, Dropout, Flatten, Dense"
   ]
  },
  {
   "cell_type": "code",
   "execution_count": 2,
   "metadata": {},
   "outputs": [],
   "source": [
    "# Could use larger dimensions, but will make training\n",
    "# times much much longer\n",
    "img_width, img_height = (75, 75)"
   ]
  },
  {
   "cell_type": "code",
   "execution_count": 3,
   "metadata": {},
   "outputs": [
    {
     "name": "stdout",
     "output_type": "stream",
     "text": [
      "Found 320 images belonging to 2 classes.\n",
      "Found 80 images belonging to 2 classes.\n"
     ]
    }
   ],
   "source": [
    "train_dir = 'FEI/train'\n",
    "test_dir = 'FEI/test'\n",
    "\n",
    "epochs = 40\n",
    "batch_size = 8\n",
    "num_train_samples = 320\n",
    "num_test_samples  =  80\n",
    "\n",
    "# perform random transformations so that the\n",
    "# data is more varied\n",
    "train_datagen = ImageDataGenerator(rotation_range=40,\n",
    "                                   width_shift_range=0.2,\n",
    "                                   height_shift_range=0.2,\n",
    "                                   rescale=1./255,\n",
    "                                   shear_range=0.2,\n",
    "                                   zoom_range=0.2,\n",
    "                                   horizontal_flip=True,\n",
    "                                   fill_mode='nearest')\n",
    "\n",
    "test_datagen  = ImageDataGenerator(rescale=1. / 255)\n",
    "\n",
    "train_generator = train_datagen.flow_from_directory(train_dir,\n",
    "                                                    target_size=(img_width, img_height),\n",
    "                                                    batch_size=batch_size,\n",
    "                                                    class_mode='binary',\n",
    "                                                    shuffle=True)\n",
    "\n",
    "validation_generator = test_datagen.flow_from_directory(test_dir,\n",
    "                                                        target_size=(img_width, img_height),\n",
    "                                                        batch_size=batch_size,\n",
    "                                                        class_mode='binary',\n",
    "                                                        shuffle=True)"
   ]
  },
  {
   "cell_type": "code",
   "execution_count": 4,
   "metadata": {},
   "outputs": [],
   "source": [
    "if K.image_data_format() == 'channels_first':\n",
    "    input_shape = (3, img_width, img_height)\n",
    "else:\n",
    "    input_shape = (img_width, img_height, 3)"
   ]
  },
  {
   "cell_type": "code",
   "execution_count": 5,
   "metadata": {},
   "outputs": [
    {
     "data": {
      "text/plain": [
       "(75, 75, 3)"
      ]
     },
     "execution_count": 5,
     "metadata": {},
     "output_type": "execute_result"
    }
   ],
   "source": [
    "input_shape"
   ]
  },
  {
   "cell_type": "code",
   "execution_count": 6,
   "metadata": {},
   "outputs": [
    {
     "name": "stderr",
     "output_type": "stream",
     "text": [
      "WARNING: Logging before flag parsing goes to stderr.\n",
      "W0727 23:11:17.396481 140737063089088 deprecation_wrapper.py:119] From /Users/vkhanna/Documents/GitHub/Keras_SmileFace_Challenge/venv/lib/python3.6/site-packages/keras/backend/tensorflow_backend.py:74: The name tf.get_default_graph is deprecated. Please use tf.compat.v1.get_default_graph instead.\n",
      "\n",
      "W0727 23:11:17.418045 140737063089088 deprecation_wrapper.py:119] From /Users/vkhanna/Documents/GitHub/Keras_SmileFace_Challenge/venv/lib/python3.6/site-packages/keras/backend/tensorflow_backend.py:517: The name tf.placeholder is deprecated. Please use tf.compat.v1.placeholder instead.\n",
      "\n",
      "W0727 23:11:17.422518 140737063089088 deprecation_wrapper.py:119] From /Users/vkhanna/Documents/GitHub/Keras_SmileFace_Challenge/venv/lib/python3.6/site-packages/keras/backend/tensorflow_backend.py:4138: The name tf.random_uniform is deprecated. Please use tf.random.uniform instead.\n",
      "\n",
      "W0727 23:11:17.452540 140737063089088 deprecation_wrapper.py:119] From /Users/vkhanna/Documents/GitHub/Keras_SmileFace_Challenge/venv/lib/python3.6/site-packages/keras/backend/tensorflow_backend.py:3976: The name tf.nn.max_pool is deprecated. Please use tf.nn.max_pool2d instead.\n",
      "\n",
      "W0727 23:11:17.719312 140737063089088 deprecation_wrapper.py:119] From /Users/vkhanna/Documents/GitHub/Keras_SmileFace_Challenge/venv/lib/python3.6/site-packages/keras/optimizers.py:790: The name tf.train.Optimizer is deprecated. Please use tf.compat.v1.train.Optimizer instead.\n",
      "\n",
      "W0727 23:11:17.725821 140737063089088 deprecation_wrapper.py:119] From /Users/vkhanna/Documents/GitHub/Keras_SmileFace_Challenge/venv/lib/python3.6/site-packages/keras/backend/tensorflow_backend.py:3376: The name tf.log is deprecated. Please use tf.math.log instead.\n",
      "\n",
      "W0727 23:11:17.734289 140737063089088 deprecation.py:323] From /Users/vkhanna/Documents/GitHub/Keras_SmileFace_Challenge/venv/lib/python3.6/site-packages/tensorflow/python/ops/nn_impl.py:180: add_dispatch_support.<locals>.wrapper (from tensorflow.python.ops.array_ops) is deprecated and will be removed in a future version.\n",
      "Instructions for updating:\n",
      "Use tf.where in 2.0, which has the same broadcast rule as np.where\n"
     ]
    }
   ],
   "source": [
    "model = Sequential()\n",
    "model.add(Conv2D(32, kernel_size=(5, 5), activation=\"relu\", input_shape=input_shape))\n",
    "model.add(MaxPooling2D(pool_size=(2, 2)))\n",
    "\n",
    "model.add(Conv2D(64, (5, 5), activation=\"relu\"))\n",
    "model.add(MaxPooling2D(pool_size=(2, 2)))\n",
    "\n",
    "# Convolution is done, so make the fully connected layer\n",
    "model.add(Flatten())\n",
    "\n",
    "# Drop 50% of the neurons\n",
    "model.add(Dense(25, activation=\"relu\"))\n",
    "model.add(Dense(1))\n",
    "model.add(Activation('sigmoid'))\n",
    "\n",
    "# compilation\n",
    "sgd = SGD(lr=0.01, decay=1e-6, momentum=0.9, nesterov=True)\n",
    "model.compile(loss='binary_crossentropy', optimizer=sgd, metrics=['accuracy'])"
   ]
  },
  {
   "cell_type": "code",
   "execution_count": 7,
   "metadata": {},
   "outputs": [
    {
     "name": "stderr",
     "output_type": "stream",
     "text": [
      "W0727 23:11:18.244196 140737063089088 deprecation_wrapper.py:119] From /Users/vkhanna/Documents/GitHub/Keras_SmileFace_Challenge/venv/lib/python3.6/site-packages/keras/backend/tensorflow_backend.py:986: The name tf.assign_add is deprecated. Please use tf.compat.v1.assign_add instead.\n",
      "\n"
     ]
    },
    {
     "name": "stdout",
     "output_type": "stream",
     "text": [
      "Epoch 1/40\n",
      "40/40 [==============================] - 2s 60ms/step - loss: 0.6915 - acc: 0.5594 - val_loss: 0.6998 - val_acc: 0.5000\n",
      "Epoch 2/40\n",
      "40/40 [==============================] - 3s 76ms/step - loss: 0.6846 - acc: 0.5375 - val_loss: 0.6523 - val_acc: 0.5375\n",
      "Epoch 3/40\n",
      "40/40 [==============================] - 2s 61ms/step - loss: 0.6341 - acc: 0.6562 - val_loss: 0.5832 - val_acc: 0.6625\n",
      "Epoch 4/40\n",
      "40/40 [==============================] - 2s 59ms/step - loss: 0.6677 - acc: 0.5844 - val_loss: 0.5303 - val_acc: 0.8000\n",
      "Epoch 5/40\n",
      "40/40 [==============================] - 2s 58ms/step - loss: 0.6490 - acc: 0.6625 - val_loss: 0.5848 - val_acc: 0.7375\n",
      "Epoch 6/40\n",
      "40/40 [==============================] - 3s 68ms/step - loss: 0.6126 - acc: 0.6875 - val_loss: 0.4622 - val_acc: 0.8125\n",
      "Epoch 7/40\n",
      "40/40 [==============================] - 3s 80ms/step - loss: 0.6223 - acc: 0.6438 - val_loss: 0.4227 - val_acc: 0.7750\n",
      "Epoch 8/40\n",
      "40/40 [==============================] - 3s 68ms/step - loss: 0.6047 - acc: 0.6625 - val_loss: 0.4476 - val_acc: 0.8000\n",
      "Epoch 9/40\n",
      "40/40 [==============================] - 3s 64ms/step - loss: 0.5850 - acc: 0.7000 - val_loss: 0.5301 - val_acc: 0.8250\n",
      "Epoch 10/40\n",
      "40/40 [==============================] - 2s 59ms/step - loss: 0.6223 - acc: 0.6438 - val_loss: 0.5446 - val_acc: 0.7500\n",
      "Epoch 11/40\n",
      "40/40 [==============================] - 2s 62ms/step - loss: 0.6256 - acc: 0.6406 - val_loss: 0.5194 - val_acc: 0.7875\n",
      "Epoch 12/40\n",
      "40/40 [==============================] - 2s 61ms/step - loss: 0.5673 - acc: 0.7031 - val_loss: 0.4127 - val_acc: 0.8250\n",
      "Epoch 13/40\n",
      "40/40 [==============================] - 2s 61ms/step - loss: 0.5186 - acc: 0.7625 - val_loss: 0.4274 - val_acc: 0.8125\n",
      "Epoch 14/40\n",
      "40/40 [==============================] - 2s 60ms/step - loss: 0.5094 - acc: 0.7656 - val_loss: 0.3456 - val_acc: 0.8500\n",
      "Epoch 15/40\n",
      "40/40 [==============================] - 3s 65ms/step - loss: 0.4391 - acc: 0.8031 - val_loss: 0.6383 - val_acc: 0.7625\n",
      "Epoch 16/40\n",
      "40/40 [==============================] - 2s 62ms/step - loss: 0.4149 - acc: 0.8094 - val_loss: 0.5795 - val_acc: 0.7750\n",
      "Epoch 17/40\n",
      "40/40 [==============================] - 2s 62ms/step - loss: 0.4092 - acc: 0.8250 - val_loss: 0.5299 - val_acc: 0.7000\n",
      "Epoch 18/40\n",
      "40/40 [==============================] - 3s 65ms/step - loss: 0.4013 - acc: 0.8094 - val_loss: 0.3289 - val_acc: 0.9000\n",
      "Epoch 19/40\n",
      "40/40 [==============================] - 3s 63ms/step - loss: 0.3332 - acc: 0.8656 - val_loss: 0.2944 - val_acc: 0.8750\n",
      "Epoch 20/40\n",
      "40/40 [==============================] - 3s 65ms/step - loss: 0.3963 - acc: 0.8219 - val_loss: 0.3279 - val_acc: 0.8750\n",
      "Epoch 21/40\n",
      "40/40 [==============================] - 3s 75ms/step - loss: 0.4066 - acc: 0.8062 - val_loss: 0.4192 - val_acc: 0.8375\n",
      "Epoch 22/40\n",
      "40/40 [==============================] - 3s 67ms/step - loss: 0.3859 - acc: 0.8125 - val_loss: 0.8433 - val_acc: 0.6875\n",
      "Epoch 23/40\n",
      "40/40 [==============================] - 3s 73ms/step - loss: 0.4767 - acc: 0.7750 - val_loss: 0.5152 - val_acc: 0.7125\n",
      "Epoch 24/40\n",
      "40/40 [==============================] - 3s 65ms/step - loss: 0.4148 - acc: 0.7812 - val_loss: 0.3392 - val_acc: 0.8625\n"
     ]
    },
    {
     "data": {
      "text/plain": [
       "<keras.callbacks.History at 0x13951acf8>"
      ]
     },
     "execution_count": 7,
     "metadata": {},
     "output_type": "execute_result"
    }
   ],
   "source": [
    "early_stopping = EarlyStopping(monitor='val_loss', patience=5)\n",
    "checkpoint = ModelCheckpoint(\"best_model.hdf5\", monitor='loss', verbose=1, save_best_only=True, mode='auto',period=1)\n",
    "\n",
    "model.fit_generator(train_generator,\n",
    "                    steps_per_epoch=num_train_samples // batch_size,\n",
    "                    epochs=epochs,\n",
    "                    validation_data=validation_generator,\n",
    "                    validation_steps=num_test_samples // batch_size,\n",
    "                    callbacks=[early_stopping, checkpoint])"
   ]
  },
  {
   "cell_type": "code",
   "execution_count": 8,
   "metadata": {},
   "outputs": [],
   "source": [
    "model.save(\"model.h5\")"
   ]
  },
  {
   "cell_type": "code",
   "execution_count": 9,
   "metadata": {},
   "outputs": [],
   "source": [
    "model = load_model('model.h5')"
   ]
  },
  {
   "cell_type": "code",
   "execution_count": 17,
   "metadata": {},
   "outputs": [],
   "source": [
    "test_loss, metrics = model.evaluate_generator(validation_generator, steps=num_test_samples)"
   ]
  },
  {
   "cell_type": "code",
   "execution_count": 18,
   "metadata": {},
   "outputs": [
    {
     "name": "stdout",
     "output_type": "stream",
     "text": [
      "Test loss 0.3412948092445731\n",
      "Metrics ['accuracy']: 0.8609375 \n"
     ]
    }
   ],
   "source": [
    "print(\"Test loss {}\".format(test_loss))\n",
    "print(\"Metrics {}: {} \".format(model.metrics, metrics))"
   ]
  },
  {
   "cell_type": "code",
   "execution_count": null,
   "metadata": {},
   "outputs": [],
   "source": []
  }
 ],
 "metadata": {
  "kernelspec": {
   "display_name": "Python 3",
   "language": "python",
   "name": "python3"
  },
  "language_info": {
   "codemirror_mode": {
    "name": "ipython",
    "version": 3
   },
   "file_extension": ".py",
   "mimetype": "text/x-python",
   "name": "python",
   "nbconvert_exporter": "python",
   "pygments_lexer": "ipython3",
   "version": "3.6.7"
  }
 },
 "nbformat": 4,
 "nbformat_minor": 4
}
